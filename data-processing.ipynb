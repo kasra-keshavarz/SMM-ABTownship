{
 "cells": [
  {
   "cell_type": "markdown",
   "id": "2534ccee-0044-4964-9d2c-054771fef697",
   "metadata": {},
   "source": [
    "# Preliminary preparations"
   ]
  },
  {
   "cell_type": "code",
   "execution_count": 1,
   "id": "f86d25e3-967b-4440-8fec-28fe2ea86010",
   "metadata": {
    "editable": true,
    "slideshow": {
     "slide_type": ""
    },
    "tags": []
   },
   "outputs": [],
   "source": [
    "import pandas as pd\n",
    "import geopandas as gpd\n",
    "\n",
    "import requests\n",
    "import re\n",
    "import json"
   ]
  },
  {
   "cell_type": "markdown",
   "id": "f4ca73c5-7eeb-46ea-b22d-3f970672912f",
   "metadata": {},
   "source": [
    "Define necessary links and paths:<br>\n",
    "1. [Alberta townships geospatial layer](https://geospatial-sit.alberta.ca/titan/rest/services/base/alberta_township_system/MapServer/7/query),\n",
    "2. Anil Gupta's `.csv` data style (located in the `./assets` directory), and\n",
    "3. Anil Gupta's list of Townships (located in the `./assets` directory)."
   ]
  },
  {
   "cell_type": "code",
   "execution_count": 2,
   "id": "b95c0efc-afea-4e94-9851-2c52b990c472",
   "metadata": {},
   "outputs": [],
   "source": [
    "# ArcGIS REST API endpoint for the specific ATS layer\n",
    "alta_ats = \"https://geospatial-sit.alberta.ca/titan/rest/services/base/alberta_township_system/MapServer/7/query\"\n",
    "\n",
    "# .csv data style\n",
    "data_style = './assets/T001R19W4.csv'\n",
    "\n",
    "# list of townships needed\n",
    "township_list = [\n",
    "    'T001R08W4',\n",
    "    'T001R12W4',\n",
    "    'T001R13W4',\n",
    "    'T001R18W4',\n",
    "    'T001R19W4',\n",
    "    'T001R20W4',\n",
    "    'T001R22W4',\n",
    "    'T001R23W4',\n",
    "    'T002R11W4',\n",
    "    'T002R12W4',\n",
    "    'T002R13W4',\n",
    "    'T002R14W4',\n",
    "    'T002R15W4',\n",
    "    'T002R16W4',\n",
    "    'T002R17W4',\n",
    "    'T002R18W4',\n",
    "    'T002R21W4',\n",
    "    'T002R23W4'\n",
    "]"
   ]
  },
  {
   "cell_type": "markdown",
   "id": "31e8e999-376c-4927-a9ef-562ea9c2c684",
   "metadata": {},
   "source": [
    "# Extracting needed layers"
   ]
  },
  {
   "cell_type": "code",
   "execution_count": 3,
   "id": "130ca0c8-fdfd-48cb-8e7b-f36142d622f0",
   "metadata": {},
   "outputs": [],
   "source": [
    "# list of township IDs based on the `PID` column of the source ATS data\n",
    "ids_list = [''.join(re.split(\"[TRW]\", ats)[::-1]) for ats in township_list]\n",
    "\n",
    "# creating a custrom SQL query statement to find `ids_list` values in the `PID` column\n",
    "sql_query = f'FILE_NAME IN ({', '.join([f\"'{item}'\" for item in ids_list])})'"
   ]
  },
  {
   "cell_type": "code",
   "execution_count": 4,
   "id": "17bbb458-37a2-44c6-bd71-5eb2a33bfe68",
   "metadata": {
    "scrolled": true
   },
   "outputs": [],
   "source": [
    "# Specifying query parameters\n",
    "params_ag = {\n",
    "    'where': sql_query,\n",
    "    'outFields': '*',\n",
    "    'returnGeometry': 'true',\n",
    "    'f': 'geojson',  # Output format as GeoJSON\n",
    "}\n",
    "\n",
    "# Make the request to the ArcGIS REST API\n",
    "response_ag = requests.get(alta_ats, params=params_ag)\n",
    "\n",
    "# Check if the request was successful\n",
    "if response_ag.status_code == 200:\n",
    "    # Load GeoJSON data into a GeoDataFrame\n",
    "    gdf_ag = gpd.read_file(response_ag.text)\n",
    "else:\n",
    "    print(f\"Error: {response_ag.status_code} - {response_ag.text}\")"
   ]
  },
  {
   "cell_type": "code",
   "execution_count": 5,
   "id": "d59c8891-4d53-4c65-9a5a-700c78598567",
   "metadata": {},
   "outputs": [
    {
     "name": "stderr",
     "output_type": "stream",
     "text": [
      "/var/folders/rw/ngg2x10x2s139yr4lchhykz40000gn/T/ipykernel_20343/1121272195.py:6: UserWarning: Geometry is in a geographic CRS. Results from 'centroid' are likely incorrect. Use 'GeoSeries.to_crs()' to re-project geometries to a projected CRS before this operation.\n",
      "\n",
      "  gdf_ag.centroid.plot(ax=ax, zorder=2, c='black')\n"
     ]
    },
    {
     "data": {
      "text/plain": [
       "<Axes: >"
      ]
     },
     "execution_count": 5,
     "metadata": {},
     "output_type": "execute_result"
    },
    {
     "data": {
      "image/png": "[encoded data removed]",
      "text/plain": [
       "<Figure size 640x480 with 1 Axes>"
      ]
     },
     "metadata": {},
     "output_type": "display_data"
    }
   ],
   "source": [
    "import matplotlib.pyplot as plt\n",
    "\n",
    "fig, ax = plt.subplots(1,1)\n",
    "\n",
    "gdf_ag.plot(ax=ax, zorder=1)\n",
    "gdf_ag.centroid.plot(ax=ax, zorder=2, c='black')"
   ]
  },
  {
   "cell_type": "code",
   "execution_count": 6,
   "id": "e22c365f-4d5a-4363-a7b5-fca57b559ecd",
   "metadata": {
    "scrolled": true
   },
   "outputs": [
    {
     "name": "stdout",
     "output_type": "stream",
     "text": [
      "408001: present\n",
      "412001: present\n",
      "413001: present\n",
      "418001: present\n",
      "419001: present\n",
      "420001: present\n",
      "422001: present\n",
      "423001: present\n",
      "411002: present\n",
      "412002: present\n",
      "413002: present\n",
      "414002: present\n",
      "415002: present\n",
      "416002: present\n",
      "417002: present\n",
      "418002: present\n",
      "421002: present\n",
      "423002: present\n"
     ]
    }
   ],
   "source": [
    "# Check if everything requested in the `township_list` is available in `gdf_ag`\n",
    "for record in ids_list:\n",
    "    if record in gdf_ag.FILE_NAME.to_list():\n",
    "        print(f\"{record}: present\")"
   ]
  },
  {
   "cell_type": "code",
   "execution_count": null,
   "id": "9a3a4249-ed38-4d0e-9d66-3bebe3111015",
   "metadata": {},
   "outputs": [],
   "source": []
  }
 ],
 "metadata": {
  "kernelspec": {
   "display_name": "scienv",
   "language": "python",
   "name": "scienv"
  },
  "language_info": {
   "codemirror_mode": {
    "name": "ipython",
    "version": 3
   },
   "file_extension": ".py",
   "mimetype": "text/x-python",
   "name": "python",
   "nbconvert_exporter": "python",
   "pygments_lexer": "ipython3",
   "version": "3.12.0"
  }
 },
 "nbformat": 4,
 "nbformat_minor": 5
}
